{
 "cells": [
  {
   "cell_type": "code",
   "execution_count": 60,
   "metadata": {},
   "outputs": [],
   "source": [
    "mail_address = 'praveensaraswat00144@gmail.com'\n",
    "password = 'Gurukul@678'\n",
    "import os\n",
    "import sys\n",
    "os.path.dirname(sys.executable)\n",
    "from time import sleep\n",
    "from selenium import webdriver\n",
    "from selenium.webdriver.common.keys import Keys\n",
    "from selenium.webdriver.common.action_chains import ActionChains\n",
    "from selenium.webdriver.chrome.options import Options\n",
    "import pyautogui \n",
    "#import org.openqa.selenium.WebElement;\n",
    "PATH=\"C:\\Program Files (x86)\\chromedriver.exe\"\n",
    "# this is tested on Firefox or you can use \"webdriver.Chrome()\"\n",
    "browser = webdriver.Chrome(PATH)\n",
    "browser.get('https://accounts.google.com/signin/v2/identifier?flowName=GlifWebSignIn&flowEntry=ServiceLogin')\n",
    "browser.find_element_by_name(\"identifier\").send_keys(mail_address)\n",
    "browser.find_element_by_class_name(\"VfPpkd-vQzf8d\").click()\n",
    "sleep(5)\n",
    "browser.find_element_by_class_name(\"whsOnd\").send_keys(password)\n",
    "browser.find_element_by_class_name(\"VfPpkd-vQzf8d\").click()\n",
    "sleep(5)\n",
    "browser.get('https://meet.google.com/pan-zcct-vou')\n",
    "sleep(2) \n",
    "actions = ActionChains(browser)\n",
    "actions.send_keys(Keys.ENTER).perform()\n",
    "sleep(10)\n",
    "browser.find_element_by_class_name(\"NPEfkd\").click()\n",
    "sleep(10)\n",
    "browser.find_element_by_class_name(\"r6xAKc\").click()\n",
    "sleep(10)\n",
    "# actions.send_keys(Keys.TAB).perform()\n",
    "# sleep(1)\n",
    "# actions.send_keys(Keys.ENTER).perform()\n",
    "# sleep(30)\n",
    "# broser.close()\n"
   ]
  },
  {
   "cell_type": "code",
   "execution_count": 48,
   "metadata": {},
   "outputs": [
    {
     "ename": "NameError",
     "evalue": "name 'driver' is not defined",
     "output_type": "error",
     "traceback": [
      "\u001b[1;31m---------------------------------------------------------------------------\u001b[0m",
      "\u001b[1;31mNameError\u001b[0m                                 Traceback (most recent call last)",
      "\u001b[1;32m<ipython-input-48-d78a692be99c>\u001b[0m in \u001b[0;36m<module>\u001b[1;34m\u001b[0m\n\u001b[0;32m      2\u001b[0m \u001b[1;33m\u001b[0m\u001b[0m\n\u001b[0;32m      3\u001b[0m \u001b[1;31m# ensure the Selenium-managed browser has the focus and will receive the click\u001b[0m\u001b[1;33m\u001b[0m\u001b[1;33m\u001b[0m\u001b[1;33m\u001b[0m\u001b[0m\n\u001b[1;32m----> 4\u001b[1;33m \u001b[0mdriver\u001b[0m\u001b[1;33m.\u001b[0m\u001b[0mswitch_to\u001b[0m\u001b[1;33m.\u001b[0m\u001b[0mwindow\u001b[0m\u001b[1;33m(\u001b[0m\u001b[0mdriver\u001b[0m\u001b[1;33m.\u001b[0m\u001b[0mcurrent_window_handle\u001b[0m\u001b[1;33m)\u001b[0m\u001b[1;33m\u001b[0m\u001b[1;33m\u001b[0m\u001b[0m\n\u001b[0m\u001b[0;32m      5\u001b[0m \u001b[1;33m\u001b[0m\u001b[0m\n\u001b[0;32m      6\u001b[0m \u001b[1;31m# moveTo the X and Y coordinate of the block or allow button\u001b[0m\u001b[1;33m\u001b[0m\u001b[1;33m\u001b[0m\u001b[1;33m\u001b[0m\u001b[0m\n",
      "\u001b[1;31mNameError\u001b[0m: name 'driver' is not defined"
     ]
    }
   ],
   "source": [
    "import pyautogui \n",
    "\n",
    "# ensure the Selenium-managed browser has the focus and will receive the click   \n",
    "driver.switch_to.window(driver.current_window_handle) \n",
    "\n",
    "# moveTo the X and Y coordinate of the block or allow button\n",
    "pyautogui.moveTo(1350, 700) \n",
    "\n",
    "# click the block or allow button\n",
    "pyautogui.click()"
   ]
  },
  {
   "cell_type": "code",
   "execution_count": null,
   "metadata": {},
   "outputs": [],
   "source": []
  }
 ],
 "metadata": {
  "kernelspec": {
   "display_name": "Python 3",
   "language": "python",
   "name": "python3"
  },
  "language_info": {
   "codemirror_mode": {
    "name": "ipython",
    "version": 3
   },
   "file_extension": ".py",
   "mimetype": "text/x-python",
   "name": "python",
   "nbconvert_exporter": "python",
   "pygments_lexer": "ipython3",
   "version": "3.7.4"
  }
 },
 "nbformat": 4,
 "nbformat_minor": 2
}
